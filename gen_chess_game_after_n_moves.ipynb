{
 "cells": [
  {
   "cell_type": "code",
   "execution_count": 154,
   "metadata": {},
   "outputs": [],
   "source": [
    "import chess\n",
    "import random"
   ]
  },
  {
   "cell_type": "code",
   "execution_count": 162,
   "metadata": {},
   "outputs": [],
   "source": [
    "def make_random_ply(board):\n",
    "    moves = []\n",
    "    for move in board.legal_moves:\n",
    "        moves.append(move.uci())\n",
    "    board.push_san(random.choice(moves))\n",
    "def get_board_after_n(board,n):\n",
    "    for i in range(n):\n",
    "        make_random_ply(board)\n",
    "    return board\n",
    "board = get_board_after_n(chess.Board(),10)"
   ]
  },
  {
   "cell_type": "code",
   "execution_count": 164,
   "metadata": {},
   "outputs": [],
   "source": [
    "boardsvg = chess.svg.board(board)\n",
    "outputfile = open(\"board.svg\", \"w\")\n",
    "outputfile.write(boardsvg)\n",
    "outputfile.close()"
   ]
  }
 ],
 "metadata": {
  "kernelspec": {
   "display_name": "Python 3",
   "language": "python",
   "name": "python3"
  },
  "language_info": {
   "codemirror_mode": {
    "name": "ipython",
    "version": 3
   },
   "file_extension": ".py",
   "mimetype": "text/x-python",
   "name": "python",
   "nbconvert_exporter": "python",
   "pygments_lexer": "ipython3",
   "version": "3.8.5"
  }
 },
 "nbformat": 4,
 "nbformat_minor": 4
}
