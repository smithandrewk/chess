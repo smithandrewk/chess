{
 "cells": [
  {
   "cell_type": "code",
   "execution_count": 127,
   "metadata": {},
   "outputs": [],
   "source": [
    "import chess\n",
    "board = chess.Board()\n",
    "white_first = board.legal_moves"
   ]
  },
  {
   "cell_type": "code",
   "execution_count": 128,
   "metadata": {},
   "outputs": [],
   "source": [
    "moves = []\n",
    "for move in white_first:\n",
    "    moves.append(move.uci())\n",
    "boards = []\n",
    "for move in moves:\n",
    "    boards.append(chess.Board())\n",
    "for i,move in enumerate(moves):\n",
    "    boards[i].push_san(move)"
   ]
  },
  {
   "cell_type": "code",
   "execution_count": 129,
   "metadata": {},
   "outputs": [],
   "source": [
    "for i,board in enumerate(boards):\n",
    "    boardsvg = chess.svg.board(board)\n",
    "    outputfile = open(\"%i\" % i +\".svg\", \"w\")\n",
    "    outputfile.write(boardsvg)\n",
    "    outputfile.close()"
   ]
  },
  {
   "cell_type": "code",
   "execution_count": null,
   "metadata": {},
   "outputs": [],
   "source": []
  }
 ],
 "metadata": {
  "kernelspec": {
   "display_name": "Python 3",
   "language": "python",
   "name": "python3"
  },
  "language_info": {
   "codemirror_mode": {
    "name": "ipython",
    "version": 3
   },
   "file_extension": ".py",
   "mimetype": "text/x-python",
   "name": "python",
   "nbconvert_exporter": "python",
   "pygments_lexer": "ipython3",
   "version": "3.8.5"
  }
 },
 "nbformat": 4,
 "nbformat_minor": 4
}
